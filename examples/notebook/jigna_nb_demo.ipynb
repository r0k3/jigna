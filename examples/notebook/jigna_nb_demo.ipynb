{
 "metadata": {
  "name": "jigna_nb_demo"
 },
 "nbformat": 3,
 "nbformat_minor": 0,
 "worksheets": [
  {
   "cells": [
    {
     "cell_type": "code",
     "collapsed": false,
     "input": [
      "# Adding parent dir to path so we can import other examples if needed.\n",
      "import os, sys; sys.path.append(os.path.join(os.getcwd(), os.pardir))\n",
      "# --------------------------------------------------------------------\n",
      "from jigna_notebook import JignaNotebook\n",
      "jigna_nb = JignaNotebook()"
     ],
     "language": "python",
     "metadata": {},
     "outputs": [],
     "prompt_number": 1
    },
    {
     "cell_type": "code",
     "collapsed": false,
     "input": [
      "from matplotlib_demo import Model\n",
      "model = Model()\n",
      "jigna_nb.show(model.get_html(), model=model)"
     ],
     "language": "python",
     "metadata": {},
     "outputs": [
      {
       "html": [
        "\n",
        "<div id=\"injected0\">\n",
        "    \n",
        "                <div>\n",
        "                Scaling factor: <input type=\"range\" ng-model=\"model.scaling_factor\"\n",
        "                                min=0 max=30><br>\n",
        "                Plot:<br>\n",
        "                <div>\n",
        "                <img src=\"data:image/png;base64,{{model.plot_output}}\">\n",
        "                </div>\n",
        "                </div>\n",
        "            \n",
        "</div>\n",
        "<script>\n",
        "    $.getScript(\"http://localhost:9999/jigna/js/angular.min.js\", function() {\n",
        "        $.getScript(\"http://localhost:9999/jigna/js/jigna.js\", function() {\n",
        "            var elem = $(\"#injected0\");\n",
        "\n",
        "            elem.ready(function(){\n",
        "                angular.bootstrap(elem, ['jigna']);\n",
        "            })\n",
        "        })\n",
        "    })\n",
        "</script>\n"
       ],
       "output_type": "pyout",
       "prompt_number": 2,
       "text": [
        "<IPython.core.display.HTML at 0x10c98c5d0>"
       ]
      }
     ],
     "prompt_number": 2
    },
    {
     "cell_type": "code",
     "collapsed": false,
     "input": [
      "model.scaling_factor = 5"
     ],
     "language": "python",
     "metadata": {},
     "outputs": [],
     "prompt_number": 6
    },
    {
     "cell_type": "code",
     "collapsed": false,
     "input": [
      "from traits.api import HasTraits, Int, Str\n",
      "class A(HasTraits):\n",
      "    age = Int\n",
      "    name = Str\n",
      "\n",
      "sam = A(age=10, name='Sam')\n",
      "html = \"Name: <input ng-model='sam.name'><br>Age:<input ng-model='sam.age'><br>\"\n",
      "jigna_nb.show(html, sam=sam)"
     ],
     "language": "python",
     "metadata": {},
     "outputs": [
      {
       "html": [
        "\n",
        "<div id=\"injected1\">\n",
        "    Name: <input ng-model='sam.name'><br>Age:<input ng-model='sam.age'><br>\n",
        "</div>\n",
        "<script>\n",
        "    $.getScript(\"http://localhost:9999/jigna/js/angular.min.js\", function() {\n",
        "        $.getScript(\"http://localhost:9999/jigna/js/jigna.js\", function() {\n",
        "            var elem = $(\"#injected1\");\n",
        "\n",
        "            elem.ready(function(){\n",
        "                angular.bootstrap(elem, ['jigna']);\n",
        "            })\n",
        "        })\n",
        "    })\n",
        "</script>\n"
       ],
       "output_type": "pyout",
       "prompt_number": 3,
       "text": [
        "<IPython.core.display.HTML at 0x10d829ed0>"
       ]
      }
     ],
     "prompt_number": 3
    },
    {
     "cell_type": "code",
     "collapsed": false,
     "input": [
      "sam.age = 25\n",
      "sam.name = 'Ram'"
     ],
     "language": "python",
     "metadata": {},
     "outputs": [],
     "prompt_number": 8
    },
    {
     "cell_type": "code",
     "collapsed": false,
     "input": [
      "print sam.name"
     ],
     "language": "python",
     "metadata": {},
     "outputs": [
      {
       "output_type": "stream",
       "stream": "stdout",
       "text": [
        "Pankaj\n"
       ]
      }
     ],
     "prompt_number": 9
    }
   ],
   "metadata": {}
  }
 ]
}